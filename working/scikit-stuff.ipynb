{
 "cells": [
  {
   "cell_type": "code",
   "execution_count": 1,
   "metadata": {},
   "outputs": [],
   "source": [
    "import pandas as pd\n",
    "from sklearn.feature_extraction.text import TfidfVectorizer\n",
    "from sklearn.metrics.pairwise import cosine_similarity\n",
    "from nltk.tokenize import word_tokenize\n",
    "from nltk.corpus import stopwords"
   ]
  },
  {
   "cell_type": "code",
   "execution_count": 2,
   "metadata": {},
   "outputs": [
    {
     "name": "stderr",
     "output_type": "stream",
     "text": [
      "[nltk_data] Downloading package punkt to\n",
      "[nltk_data]     C:\\Users\\vagee\\AppData\\Roaming\\nltk_data...\n",
      "[nltk_data]   Package punkt is already up-to-date!\n",
      "[nltk_data] Downloading package stopwords to\n",
      "[nltk_data]     C:\\Users\\vagee\\AppData\\Roaming\\nltk_data...\n",
      "[nltk_data]   Package stopwords is already up-to-date!\n"
     ]
    },
    {
     "data": {
      "text/plain": [
       "True"
      ]
     },
     "execution_count": 2,
     "metadata": {},
     "output_type": "execute_result"
    }
   ],
   "source": [
    "import nltk\n",
    "nltk.download(\"punkt\")\n",
    "nltk.download(\"stopwords\")"
   ]
  },
  {
   "cell_type": "code",
   "execution_count": 3,
   "metadata": {},
   "outputs": [],
   "source": [
    "df = pd.read_excel(\"hackdata.xlsx\")"
   ]
  },
  {
   "cell_type": "code",
   "execution_count": 4,
   "metadata": {},
   "outputs": [],
   "source": [
    "stop_words = set(stopwords.words(\"english\"))"
   ]
  },
  {
   "cell_type": "code",
   "execution_count": 5,
   "metadata": {},
   "outputs": [],
   "source": [
    "def process_text(text):\n",
    "    tokens = word_tokenize(text)\n",
    "    tokens = [word.lower() for word in tokens if word.isalpha() and word.lower() not in stop_words]\n",
    "    return \" \".join(tokens)\n"
   ]
  },
  {
   "cell_type": "code",
   "execution_count": 7,
   "metadata": {},
   "outputs": [],
   "source": [
    "df[\"processed_abstract\"] = df[\"Abstract\"].apply(process_text)"
   ]
  },
  {
   "cell_type": "code",
   "execution_count": 8,
   "metadata": {},
   "outputs": [],
   "source": [
    "vectorizer = TfidfVectorizer()\n",
    "tfidf_matrix = vectorizer.fit_transform(df[\"processed_abstract\"])\n",
    "question_vector = vectorizer.transform([process_text(\"what is a drone\")])"
   ]
  },
  {
   "cell_type": "code",
   "execution_count": 9,
   "metadata": {},
   "outputs": [],
   "source": [
    "df[\"similarity_score\"] = cosine_similarity(tfidf_matrix, question_vector)\n",
    "\n",
    "result_df = df.sort_values(by=\"similarity_score\", ascending=False)"
   ]
  },
  {
   "cell_type": "code",
   "execution_count": 14,
   "metadata": {},
   "outputs": [
    {
     "name": "stdout",
     "output_type": "stream",
     "text": [
      "                                                  Title  Publication Year  \\\n",
      "1571             IN-FLIGHT DRONE STRUCTURE MODIFICATION              2023   \n",
      "33    HUMAN INDICATION OF TARGET DRONE FOR INTERCEPTION              2018   \n",
      "32    DRONE SYSTEM, DRONE, MOVABLE BODY, DRONE SYSTE...              2022   \n",
      "66    Apparatus and method for network based operati...              2021   \n",
      "63    Apparatus and method for network based operati...              2020   \n",
      "\n",
      "                                       URL  \\\n",
      "1571  https://lens.org/086-850-244-390-65X   \n",
      "33    https://lens.org/040-098-793-546-598   \n",
      "32    https://lens.org/010-500-468-935-180   \n",
      "66    https://lens.org/054-049-926-171-046   \n",
      "63    https://lens.org/082-653-423-597-295   \n",
      "\n",
      "                                               Abstract  similarity_score  \n",
      "1571  A method, computer system, and a drone for in-...          0.589752  \n",
      "33    A system for tracking a drone includes a devic...          0.569328  \n",
      "32    A drone system that includes a drone and a mov...          0.539769  \n",
      "66    Embodiment includes of a method and a system o...          0.538147  \n",
      "63    Embodiment includes of a method and a system o...          0.538147  \n"
     ]
    }
   ],
   "source": [
    "print(result_df[[\"Title\", \"Publication Year\", \"URL\", \"Abstract\", \"similarity_score\"]].head())"
   ]
  }
 ],
 "metadata": {
  "kernelspec": {
   "display_name": "venv",
   "language": "python",
   "name": "python3"
  },
  "language_info": {
   "codemirror_mode": {
    "name": "ipython",
    "version": 3
   },
   "file_extension": ".py",
   "mimetype": "text/x-python",
   "name": "python",
   "nbconvert_exporter": "python",
   "pygments_lexer": "ipython3",
   "version": "3.12.0"
  }
 },
 "nbformat": 4,
 "nbformat_minor": 2
}
