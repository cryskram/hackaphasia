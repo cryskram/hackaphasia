{
 "cells": [
  {
   "cell_type": "code",
   "execution_count": 1,
   "metadata": {},
   "outputs": [],
   "source": [
    "import pandas as pd\n",
    "import spacy"
   ]
  },
  {
   "cell_type": "code",
   "execution_count": 2,
   "metadata": {},
   "outputs": [],
   "source": [
    "nlp = spacy.load(\"en_core_web_md\")"
   ]
  },
  {
   "cell_type": "code",
   "execution_count": 3,
   "metadata": {},
   "outputs": [],
   "source": [
    "df = pd.read_excel(\"hackdata.xlsx\")"
   ]
  },
  {
   "cell_type": "code",
   "execution_count": 4,
   "metadata": {},
   "outputs": [],
   "source": [
    "def semantic_search(question, dataframe, nlp_model, nos=5):\n",
    "    question_doc = nlp_model(question)\n",
    "\n",
    "    dataframe[\"similarity_score\"] = dataframe[\"Abstract\"].apply(\n",
    "        lambda x: question_doc.similarity(nlp_model(x))\n",
    "    )\n",
    "\n",
    "    result_df = dataframe.sort_values(by=\"similarity_score\", ascending=False).head(nos)\n",
    "\n",
    "    return result_df[\n",
    "        [\"Title\", \"Publication Year\", \"URL\", \"Abstract\", \"similarity_score\"]\n",
    "    ]"
   ]
  },
  {
   "cell_type": "code",
   "execution_count": 13,
   "metadata": {},
   "outputs": [],
   "source": [
    "search_question = \"drone\""
   ]
  },
  {
   "cell_type": "code",
   "execution_count": 17,
   "metadata": {},
   "outputs": [],
   "source": [
    "result = semantic_search(search_question, df, nlp)"
   ]
  },
  {
   "cell_type": "code",
   "execution_count": 18,
   "metadata": {},
   "outputs": [
    {
     "name": "stdout",
     "output_type": "stream",
     "text": [
      "                                                  Title  Publication Year  \\\n",
      "593       LAUNCHING UNMANNED AERIAL COPTER FROM MID-AIR              2016   \n",
      "594       LAUNCHING UNMANNED AERIAL COPTER FROM MID-AIR              2017   \n",
      "595       Launching unmanned aerial copter from mid-air              2017   \n",
      "3939  SYSTEMS AND METHODS FOR LOCALIZING AERIAL VEHI...              2020   \n",
      "33    HUMAN INDICATION OF TARGET DRONE FOR INTERCEPTION              2018   \n",
      "\n",
      "                                       URL  \\\n",
      "593   https://lens.org/023-962-106-025-591   \n",
      "594   https://lens.org/096-086-901-614-871   \n",
      "595   https://lens.org/178-900-780-071-992   \n",
      "3939  https://lens.org/092-351-012-152-960   \n",
      "33    https://lens.org/040-098-793-546-598   \n",
      "\n",
      "                                               Abstract  similarity_score  \n",
      "593   An unmanned aerial vehicle (UAV) copter for co...          0.460282  \n",
      "594   An unmanned aerial vehicle (UAV) copter for co...          0.460282  \n",
      "595   An unmanned aerial vehicle (UAV) copter for co...          0.460282  \n",
      "3939  A system includes at least one unmanned aerial...          0.426348  \n",
      "33    A system for tracking a drone includes a devic...          0.412434  \n"
     ]
    }
   ],
   "source": [
    "print(result.head())"
   ]
  },
  {
   "cell_type": "code",
   "execution_count": null,
   "metadata": {},
   "outputs": [],
   "source": []
  }
 ],
 "metadata": {
  "kernelspec": {
   "display_name": "venv",
   "language": "python",
   "name": "python3"
  },
  "language_info": {
   "codemirror_mode": {
    "name": "ipython",
    "version": 3
   },
   "file_extension": ".py",
   "mimetype": "text/x-python",
   "name": "python",
   "nbconvert_exporter": "python",
   "pygments_lexer": "ipython3",
   "version": "3.12.0"
  }
 },
 "nbformat": 4,
 "nbformat_minor": 2
}
